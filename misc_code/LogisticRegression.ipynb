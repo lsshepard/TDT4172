{
 "cells": [
  {
   "cell_type": "code",
   "execution_count": 4,
   "id": "a791d985",
   "metadata": {},
   "outputs": [],
   "source": [
    "import numpy as np\n",
    "from math import e, log\n",
    "\n",
    "class LogisticRegression:\n",
    "    def __init__(self, learning_rate=0.1, epochs=1000):\n",
    "        self.learning_rate = learning_rate\n",
    "        self.epochs = epochs\n",
    "        self.weights, self.bias = None, None\n",
    "        self.losses, self.train_accuracies = [], []\n",
    "\n",
    "    def sigmoid_function(self, x):\n",
    "        return 1 / ( 1 + e**(-x) )\n",
    "\n",
    "    def _compute_loss(self, y, y_pred):\n",
    "        return -y * log(y_pred) - ( 1-y ) * log(1-y_pred)\n",
    "\n",
    "    def compute_gradients(self, x, y, y_pred):\n",
    "        grad_w = (y_pred-y) * x\n",
    "        grad_b = (y_pred-y)\n",
    "        return grad_w, grad_b\n",
    "\n",
    "    def update_parameters(self, grad_w, grad_b):\n",
    "        self.weights -= grad_w * self.learning_rate\n",
    "        self.bias -= grad_b * self.learning_rate\n",
    "        \n",
    "    def accuracy(true_values, predictions):\n",
    "        return np.mean(true_values == predictions)\n",
    "\n",
    "    def fit(self, x, y):\n",
    "        self.weights = np.zeros(x.shape[1]) #x.shape = datapunkter, features\n",
    "        self.bias = 0\n",
    "        # Gradient Descent\n",
    "        for _ in range(self.epochs):\n",
    "            lin_model = np.matmul(self.weights, x.transpose()) + self.bias\n",
    "        \n",
    "            y_pred = self._sigmoid(lin_model)\n",
    "            grad_w, grad_b = self.compute_gradients(x, y, y_pred)\n",
    "            self.update_parameters(grad_w, grad_b)\n",
    "            loss = self._compute_loss(y, y_pred)\n",
    "            pred_to_class = [1 if _y > 0.5 else 0 for _y in y_pred]\n",
    "            self.train_accuracies.append(self.accuracy(y, pred_to_class))\n",
    "            self.losses.append(loss)\n",
    "\n",
    "    def predict(self, x):\n",
    "        lin_model = np.matmul(x, self.weights) + self.bias\n",
    "        y_pred = self._sigmoid(lin_model)\n",
    "        return [1 if _y > 0.5 else 0 for _y in y_pred]"
   ]
  },
  {
   "cell_type": "code",
   "execution_count": null,
   "id": "3d2b4a2d",
   "metadata": {},
   "outputs": [],
   "source": [
    "import pandas as pd\n",
    "\n",
    "train = pd.read_csv(\"train.csv\")\n"
   ]
  },
  {
   "cell_type": "code",
   "execution_count": null,
   "id": "b2c5a743",
   "metadata": {},
   "outputs": [],
   "source": [
    "# Training\n",
    "train_epochs = 30\n",
    "# Initialize and train the model\n",
    "log_reg = LogisticRegression(learning_rate=0.01, epochs=train_epochs)\n",
    "log_reg.fit(X_train, y_train)\n",
    "# Make predictions\n",
    "predictions = log_reg.predict(X_test)"
   ]
  },
  {
   "cell_type": "code",
   "execution_count": 6,
   "id": "85f882c7",
   "metadata": {},
   "outputs": [
    {
     "ename": "NameError",
     "evalue": "name 'train_epochs' is not defined",
     "output_type": "error",
     "traceback": [
      "\u001b[0;31m---------------------------------------------------------------------------\u001b[0m",
      "\u001b[0;31mNameError\u001b[0m                                 Traceback (most recent call last)",
      "Cell \u001b[0;32mIn[6], line 3\u001b[0m\n\u001b[1;32m      1\u001b[0m \u001b[38;5;28;01mimport\u001b[39;00m\u001b[38;5;250m \u001b[39m\u001b[38;5;21;01mmatplotlib\u001b[39;00m\u001b[38;5;21;01m.\u001b[39;00m\u001b[38;5;21;01mpyplot\u001b[39;00m\u001b[38;5;250m \u001b[39m\u001b[38;5;28;01mas\u001b[39;00m\u001b[38;5;250m \u001b[39m\u001b[38;5;21;01mplt\u001b[39;00m\n\u001b[0;32m----> 3\u001b[0m epoch_list \u001b[38;5;241m=\u001b[39m np\u001b[38;5;241m.\u001b[39marange(\u001b[38;5;241m0\u001b[39m, \u001b[43mtrain_epochs\u001b[49m,\u001b[38;5;241m1\u001b[39m)\n\u001b[1;32m      4\u001b[0m plt\u001b[38;5;241m.\u001b[39mplot(epoch_list, log_reg\u001b[38;5;241m.\u001b[39mlosses, c\u001b[38;5;241m=\u001b[39m\u001b[38;5;124m'\u001b[39m\u001b[38;5;124mred\u001b[39m\u001b[38;5;124m'\u001b[39m, label\u001b[38;5;241m=\u001b[39m\u001b[38;5;124m\"\u001b[39m\u001b[38;5;124mLoss\u001b[39m\u001b[38;5;124m\"\u001b[39m)\n\u001b[1;32m      5\u001b[0m plt\u001b[38;5;241m.\u001b[39mplot(epoch_list, log_reg\u001b[38;5;241m.\u001b[39mtrain_accuracies, c\u001b[38;5;241m=\u001b[39m\u001b[38;5;124m'\u001b[39m\u001b[38;5;124mblue\u001b[39m\u001b[38;5;124m'\u001b[39m, label\u001b[38;5;241m=\u001b[39m\u001b[38;5;124m\"\u001b[39m\u001b[38;5;124mAccuracy\u001b[39m\u001b[38;5;124m\"\u001b[39m)\n",
      "\u001b[0;31mNameError\u001b[0m: name 'train_epochs' is not defined"
     ]
    }
   ],
   "source": [
    "import matplotlib.pyplot as plt\n",
    "\n",
    "epoch_list = np.arange(0, train_epochs,1)\n",
    "plt.plot(epoch_list, log_reg.losses, c='red', label=\"Loss\")\n",
    "plt.plot(epoch_list, log_reg.train_accuracies, c='blue', label=\"Accuracy\")\n",
    "plt.legend()\n",
    "plt.show()"
   ]
  }
 ],
 "metadata": {
  "kernelspec": {
   "display_name": "Python 3",
   "language": "python",
   "name": "python3"
  },
  "language_info": {
   "codemirror_mode": {
    "name": "ipython",
    "version": 3
   },
   "file_extension": ".py",
   "mimetype": "text/x-python",
   "name": "python",
   "nbconvert_exporter": "python",
   "pygments_lexer": "ipython3",
   "version": "3.9.6"
  }
 },
 "nbformat": 4,
 "nbformat_minor": 5
}
